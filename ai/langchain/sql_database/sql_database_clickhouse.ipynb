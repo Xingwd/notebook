{
 "cells": [
  {
   "cell_type": "code",
   "execution_count": null,
   "metadata": {},
   "outputs": [],
   "source": [
    "from langchain_community.utilities.sql_database import SQLDatabase\n",
    "\n",
    "db_uri = \"clickhouse://username:password@ip:port/db\"\n",
    "db = SQLDatabase.from_uri(db_uri)"
   ]
  },
  {
   "cell_type": "code",
   "execution_count": null,
   "metadata": {},
   "outputs": [],
   "source": [
    "from langchain_community.agent_toolkits import create_sql_agent\n",
    "from langchain_openai import ChatOpenAI\n",
    "\n",
    "OPENAI_PROXY = \"https://ip\"\n",
    "\n",
    "llm = ChatOpenAI(base_url=OPENAI_PROXY, api_key=\"any\", model=\"gpt-4o\", temperature=0)\n",
    "agent_executor = create_sql_agent(llm, db=db, agent_type=\"openai-tools\", verbose=True)"
   ]
  },
  {
   "cell_type": "code",
   "execution_count": null,
   "metadata": {},
   "outputs": [],
   "source": [
    "output = agent_executor.invoke(\n",
    "    \"列出所有表\"\n",
    ")"
   ]
  },
  {
   "cell_type": "code",
   "execution_count": null,
   "metadata": {},
   "outputs": [],
   "source": [
    "import json\n",
    "json.dumps(output, ensure_ascii=False)"
   ]
  },
  {
   "cell_type": "code",
   "execution_count": null,
   "metadata": {},
   "outputs": [],
   "source": [
    "agent_executor.invoke(\n",
    "    \"统计最近一周xyio日志的每日新设备数，并生成使用echarts折线图展示的html代码\"\n",
    ")"
   ]
  },
  {
   "cell_type": "markdown",
   "metadata": {},
   "source": [
    " 'output': '以下是最近一周xyio日志的每日新设备数：\\n\\n- 2024-07-03: 341598\\n- 2024-07-04: 299610\\n- 2024-07-05: 307508\\n- 2024-07-06: 296660\\n- 2024-07-07: 306394\\n- 2024-07-08: 388841\\n- 2024-07-09: 487094\\n\\n根据这些数据，生成使用ECharts折线图展示的HTML代码如下：\\n\\n```html\\n<!DOCTYPE html>\\n<html style=\"height: 100%\">\\n<head>\\n    <meta charset=\"utf-8\">\\n    <title>ECharts</title>\\n    <!-- 引入 ECharts 文件 -->\\n    <script src=\"https://cdn.jsdelivr.net/npm/echarts/dist/echarts.min.js\"></script>\\n</head>\\n<body style=\"height: 100%; margin: 0\">\\n    <!-- 为ECharts准备一个具备大小（宽高）的DOM -->\\n    <div id=\"main\" style=\"height: 100%\"></div>\\n    <script type=\"text/javascript\">\\n        // 基于准备好的dom，初始化echarts实例\\n        var myChart = echarts.init(document.getElementById(\\'main\\'));\\n\\n        // 指定图表的配置项和数据\\n        var option = {\\n            title: {\\n                text: \\'最近一周xyio日志的每日新设备数\\'\\n            },\\n            tooltip: {\\n                trigger: \\'axis\\'\\n            },\\n            xAxis: {\\n                type: \\'category\\',\\n                data: [\\'2024-07-03\\', \\'2024-07-04\\', \\'2024-07-05\\', \\'2024-07-06\\', \\'2024-07-07\\', \\'2024-07-08\\', \\'2024-07-09\\']\\n            },\\n            yAxis: {\\n                type: \\'value\\'\\n            },\\n            series: [{\\n                data: [341598, 299610, 307508, 296660, 306394, 388841, 487094],\\n                type: \\'line\\'\\n            }]\\n        };\\n\\n        // 使用刚指定的配置项和数据显示图表。\\n        myChart.setOption(option);\\n    </script>\\n</body>\\n</html>\\n```\\n\\n将上述HTML代码保存为文件并在浏览器中打开，即可看到折线图展示的每日新设备数。'}\n"
   ]
  }
 ],
 "metadata": {
  "kernelspec": {
   "display_name": "ai",
   "language": "python",
   "name": "python3"
  },
  "language_info": {
   "codemirror_mode": {
    "name": "ipython",
    "version": 3
   },
   "file_extension": ".py",
   "mimetype": "text/x-python",
   "name": "python",
   "nbconvert_exporter": "python",
   "pygments_lexer": "ipython3",
   "version": "3.10.13"
  }
 },
 "nbformat": 4,
 "nbformat_minor": 2
}
