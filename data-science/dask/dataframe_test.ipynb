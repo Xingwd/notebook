{
 "cells": [
  {
   "cell_type": "code",
   "execution_count": null,
   "metadata": {},
   "outputs": [],
   "source": [
    "import pandas as pd\n",
    "import dask.dataframe as dd"
   ]
  },
  {
   "cell_type": "code",
   "execution_count": null,
   "metadata": {},
   "outputs": [],
   "source": [
    "data = [\n",
    "    {'id': 'aa', 'courseId': 11, 'kpointIds': [3315, 3316]},\n",
    "    {'id': 'bb', 'courseId': 12, 'kpointIds': [3315, 3317]},\n",
    "    {'id': 'cc', 'courseId': 13, 'kpointIds': [3315, 3318]},\n",
    "    {'id': 'dd', 'courseId': 13, 'kpointIds': [3315, 3318]}\n",
    "]"
   ]
  },
  {
   "cell_type": "code",
   "execution_count": null,
   "metadata": {},
   "outputs": [],
   "source": [
    "pdf = pd.DataFrame(data)\n",
    "pdf.dtypes"
   ]
  },
  {
   "cell_type": "code",
   "execution_count": null,
   "metadata": {},
   "outputs": [],
   "source": [
    "ddf = dd.from_pandas(pdf, npartitions=2)\n",
    "ddf.head()"
   ]
  },
  {
   "cell_type": "code",
   "execution_count": null,
   "metadata": {},
   "outputs": [],
   "source": [
    "ddf.dtypes"
   ]
  },
  {
   "cell_type": "code",
   "execution_count": null,
   "metadata": {},
   "outputs": [],
   "source": [
    "def map_df(df, partition_info=None):\n",
    "    # 存在分区信息为None的情况，原因未知，还需要继续研究dask\n",
    "    # 当分区信息为None时，df数据不对\n",
    "    df['partition'] = partition_info['number'] if partition_info else None\n",
    "    return df\n",
    "\n",
    "ddf.map_partitions(map_df).compute()"
   ]
  }
 ],
 "metadata": {
  "kernelspec": {
   "display_name": "base",
   "language": "python",
   "name": "python3"
  },
  "language_info": {
   "codemirror_mode": {
    "name": "ipython",
    "version": 3
   },
   "file_extension": ".py",
   "mimetype": "text/x-python",
   "name": "python",
   "nbconvert_exporter": "python",
   "pygments_lexer": "ipython3",
   "version": "3.10.13"
  }
 },
 "nbformat": 4,
 "nbformat_minor": 2
}
