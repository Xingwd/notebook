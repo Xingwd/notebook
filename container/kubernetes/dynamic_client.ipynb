{
 "cells": [
  {
   "cell_type": "markdown",
   "id": "52679a4f",
   "metadata": {},
   "source": [
    "# Dynamic Client\n",
    "\n",
    "更灵活的API，除了可以操作Kubernetes标准资源，也可以操作自定义资源。\n",
    "\n",
    "参考：\n",
    "\n",
    "- https://github.com/kubernetes-client/python/tree/master/examples/dynamic-client\n",
    "\n",
    "## 代码示例\n",
    "\n",
    "### 导入SDK"
   ]
  },
  {
   "cell_type": "code",
   "execution_count": null,
   "id": "c6b1dc2c",
   "metadata": {},
   "outputs": [],
   "source": [
    "from kubernetes import client, config, dynamic"
   ]
  },
  {
   "cell_type": "markdown",
   "id": "7fa79936",
   "metadata": {},
   "source": [
    "### 创建Client"
   ]
  },
  {
   "cell_type": "code",
   "execution_count": null,
   "id": "5061a66d",
   "metadata": {},
   "outputs": [],
   "source": [
    "# Configs can be set in Configuration class directly or using helper\n",
    "# utility. If no argument provided, the config will be loaded from\n",
    "# default location.\n",
    "config.load_kube_config(config_file=\"./.kube/config\")\n",
    "api_client = client.ApiClient()\n",
    "# Creating a dynamic client\n",
    "dynamic_client = dynamic.DynamicClient(api_client)"
   ]
  },
  {
   "cell_type": "markdown",
   "id": "4c4f99fe",
   "metadata": {},
   "source": [
    "### 操作ConfigMap"
   ]
  },
  {
   "cell_type": "code",
   "execution_count": null,
   "id": "b0efe2f0",
   "metadata": {},
   "outputs": [],
   "source": [
    "# fetching the configmap api\n",
    "config_map_api = dynamic_client.resources.get(api_version=\"v1\", kind=\"ConfigMap\")"
   ]
  },
  {
   "cell_type": "code",
   "execution_count": null,
   "id": "7d45e6a9",
   "metadata": {},
   "outputs": [],
   "source": [
    "namespace = \"sps\"\n",
    "configmap_name = \"test-configmap\"\n",
    "\n",
    "configmap_manifest = {\n",
    "    \"kind\": \"ConfigMap\",\n",
    "    \"apiVersion\": \"v1\",\n",
    "    \"metadata\": {\n",
    "        \"name\": configmap_name,\n",
    "        \"labels\": {\n",
    "            \"foo\": \"bar\",\n",
    "        },\n",
    "    },\n",
    "    \"data\": {\n",
    "        \"config.json\": '{\"command\":\"/usr/bin/mysqld_safe\"}',\n",
    "        \"frontend.cnf\": \"[mysqld]\\nbind-address = 10.0.0.3\\n\",\n",
    "    },\n",
    "}"
   ]
  },
  {
   "cell_type": "code",
   "execution_count": null,
   "id": "ac3204f4",
   "metadata": {},
   "outputs": [],
   "source": [
    "# Creating configmap `test-configmap`\n",
    "\n",
    "configmap = config_map_api.create(body=configmap_manifest, namespace=namespace)\n",
    "\n",
    "print(\"\\n[INFO] configmap `test-configmap` created\\n\")"
   ]
  },
  {
   "cell_type": "code",
   "execution_count": null,
   "id": "0cb79baa",
   "metadata": {},
   "outputs": [],
   "source": [
    "# Listing the configmaps\n",
    "\n",
    "configmap_list = config_map_api.get(\n",
    "    name=configmap_name, namespace=namespace, label_selector=\"foo=bar\"\n",
    ")\n",
    "\n",
    "print(\"NAME:\\n%s\\n\" % (configmap_list.metadata.name))\n",
    "print(\"DATA:\\n%s\\n\" % (configmap_list.data))"
   ]
  },
  {
   "cell_type": "code",
   "execution_count": null,
   "id": "aa1d127f",
   "metadata": {},
   "outputs": [],
   "source": [
    "# Updating the configmap's data, `config.json`\n",
    "\n",
    "configmap_manifest[\"data\"][\"config.json\"] = \"{}\"\n",
    "\n",
    "configmap_patched = config_map_api.patch(\n",
    "    name=configmap_name, namespace=namespace, body=configmap_manifest\n",
    ")\n",
    "\n",
    "print(\"\\n[INFO] configmap `test-configmap` patched\\n\")\n",
    "print(\"NAME:\\n%s\\n\" % (configmap_patched.metadata.name))\n",
    "print(\"DATA:\\n%s\\n\" % (configmap_patched.data))"
   ]
  },
  {
   "cell_type": "code",
   "execution_count": null,
   "id": "86015401",
   "metadata": {},
   "outputs": [],
   "source": [
    "# Deleting configmap `test-configmap`\n",
    "\n",
    "configmap_deleted = config_map_api.delete(name=configmap_name, body={}, namespace=namespace)\n",
    "print(\"\\n[INFO] configmap `test-configmap` deleted\\n\")"
   ]
  },
  {
   "cell_type": "markdown",
   "id": "71b44f89",
   "metadata": {},
   "source": [
    "### 操作FlinkDeployment\n",
    "\n",
    "需要在`Kubernetes`上安装[Flink Kubernetes Operator](https://nightlies.apache.org/flink/flink-kubernetes-operator-docs-stable/)。"
   ]
  },
  {
   "cell_type": "code",
   "execution_count": null,
   "id": "cca1a4b3",
   "metadata": {},
   "outputs": [],
   "source": [
    "import yaml\n",
    "\n",
    "with open(\"yaml_dir/flink/basic.yaml\") as f:\n",
    "    flink_deployment_manifest = yaml.safe_load(f)\n",
    "    # yaml file中存在多个document时，使用yaml.safe_load_all(f)返回一个generator\n",
    "    # flink_deployment_manifest = yaml.safe_load_all(f)\n",
    "\n",
    "# flink_deployment_manifest"
   ]
  },
  {
   "cell_type": "code",
   "execution_count": null,
   "id": "b671feaa",
   "metadata": {},
   "outputs": [],
   "source": [
    "# fetching the configmap api\n",
    "flink_operator_api = dynamic_client.resources.get(api_version=flink_deployment_manifest['apiVersion'], kind=flink_deployment_manifest['kind'])"
   ]
  },
  {
   "cell_type": "code",
   "execution_count": null,
   "id": "7379ed4c",
   "metadata": {},
   "outputs": [],
   "source": [
    "# Creating flink deployment\n",
    "\n",
    "flink_app = flink_operator_api.create(body=flink_deployment_manifest)\n",
    "\n",
    "print(\"\\n[INFO] flink deployment created\\n\")"
   ]
  },
  {
   "cell_type": "code",
   "execution_count": null,
   "id": "8f989575",
   "metadata": {},
   "outputs": [],
   "source": [
    "# Listing flink deployment\n",
    "\n",
    "flink_app_list = flink_operator_api.get(\n",
    "    name=flink_deployment_manifest['metadata']['name'], namespace=flink_deployment_manifest['metadata']['namespace']\n",
    ")\n",
    "\n",
    "print(\"NAME:\\n%s\\n\" % (flink_app_list.metadata.name))"
   ]
  },
  {
   "cell_type": "code",
   "execution_count": null,
   "id": "55bb5c90",
   "metadata": {},
   "outputs": [],
   "source": [
    "# List pods\n",
    "v1 = client.CoreV1Api(api_client)\n",
    "ret = v1.list_namespaced_pod(flink_deployment_manifest['metadata']['namespace'], label_selector=f\"app={flink_deployment_manifest['metadata']['name']}\")\n",
    "for i in ret.items:\n",
    "    print(f\"{i.status.pod_ip}\\t{i.metadata.namespace}\\t{i.metadata.name}\")"
   ]
  },
  {
   "cell_type": "code",
   "execution_count": null,
   "id": "954b863d",
   "metadata": {},
   "outputs": [],
   "source": [
    "# Updating the flink deployment\n",
    "\n",
    "flink_deployment_manifest[\"spec\"][\"taskManager\"][\"resource\"][\"cpu\"] = 1\n",
    "\n",
    "flink_app_patched = flink_operator_api.patch(\n",
    "    content_type=\"application/merge-patch+json\",\n",
    "    body=flink_deployment_manifest)\n",
    "\n",
    "print(\"\\n[INFO] flink deployment patched\\n\")\n",
    "print(\"NAME:\\n%s\\n\" % (flink_app_patched.metadata.name))"
   ]
  },
  {
   "cell_type": "code",
   "execution_count": null,
   "id": "13da4344",
   "metadata": {},
   "outputs": [],
   "source": [
    "# Deleting flink deployment\n",
    "\n",
    "flink_app_deleted = flink_operator_api.delete(\n",
    "    name=flink_deployment_manifest[\"metadata\"][\"name\"],\n",
    "    namespace=flink_deployment_manifest[\"metadata\"][\"namespace\"])\n",
    "print(\"\\n[INFO] flink deployment deleted\\n\")"
   ]
  }
 ],
 "metadata": {
  "kernelspec": {
   "display_name": "notebook",
   "language": "python",
   "name": "python3"
  },
  "language_info": {
   "codemirror_mode": {
    "name": "ipython",
    "version": 3
   },
   "file_extension": ".py",
   "mimetype": "text/x-python",
   "name": "python",
   "nbconvert_exporter": "python",
   "pygments_lexer": "ipython3",
   "version": "3.12.9"
  }
 },
 "nbformat": 4,
 "nbformat_minor": 5
}
