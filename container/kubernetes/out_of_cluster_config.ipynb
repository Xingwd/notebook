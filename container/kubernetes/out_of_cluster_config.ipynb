{
 "cells": [
  {
   "cell_type": "markdown",
   "id": "a80a9582",
   "metadata": {},
   "source": [
    "# 在集群外通过kubeconfig访问集群\n",
    "\n",
    "参考：\n",
    "- https://github.com/kubernetes-client/python/blob/master/examples/out_of_cluster_config.py\n",
    "\n",
    "## 代码示例\n",
    "\n",
    "### 导入SDK"
   ]
  },
  {
   "cell_type": "code",
   "execution_count": null,
   "id": "ae29a6a9",
   "metadata": {},
   "outputs": [],
   "source": [
    "from kubernetes import client, config"
   ]
  },
  {
   "cell_type": "markdown",
   "id": "7bd7ab0f",
   "metadata": {},
   "source": [
    "### 创建Client"
   ]
  },
  {
   "cell_type": "code",
   "execution_count": null,
   "id": "cc2d3683",
   "metadata": {},
   "outputs": [],
   "source": [
    "# Configs can be set in Configuration class directly or using helper\n",
    "# utility. If no argument provided, the config will be loaded from\n",
    "# default location.\n",
    "config.load_kube_config(config_file=\"./.kube/config\")\n",
    "\n",
    "v1 = client.CoreV1Api()"
   ]
  },
  {
   "cell_type": "markdown",
   "id": "2e6b0e77",
   "metadata": {},
   "source": [
    "### 查看Pod列表"
   ]
  },
  {
   "cell_type": "code",
   "execution_count": null,
   "id": "7832b05a",
   "metadata": {},
   "outputs": [],
   "source": [
    "print(\"Listing pods with their IPs:\")\n",
    "ret = v1.list_namespaced_pod(\"sps\")\n",
    "for i in ret.items:\n",
    "    print(f\"{i.status.pod_ip}\\t{i.metadata.namespace}\\t{i.metadata.name}\")"
   ]
  }
 ],
 "metadata": {
  "kernelspec": {
   "display_name": "notebook",
   "language": "python",
   "name": "python3"
  },
  "language_info": {
   "codemirror_mode": {
    "name": "ipython",
    "version": 3
   },
   "file_extension": ".py",
   "mimetype": "text/x-python",
   "name": "python",
   "nbconvert_exporter": "python",
   "pygments_lexer": "ipython3",
   "version": "3.12.9"
  }
 },
 "nbformat": 4,
 "nbformat_minor": 5
}
